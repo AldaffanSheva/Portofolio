{
 "cells": [
  {
   "cell_type": "code",
   "execution_count": 1,
   "id": "cad9f9fe",
   "metadata": {},
   "outputs": [],
   "source": [
    "# import packages that we need\n",
    "import pandas as pd\n",
    "import numpy as np\n",
    "import keras\n",
    "import os\n",
    "import zipfile\n",
    "import random\n",
    "import shutil\n",
    "import tensorflow as tf\n",
    "import pathlib\n",
    "from tensorflow.keras.preprocessing.image import ImageDataGenerator\n",
    "from shutil import copyfile\n",
    "import matplotlib.pyplot as plt\n",
    "\n",
    "from tensorflow.keras.optimizers import RMSprop\n",
    "from sklearn.utils.class_weight import compute_class_weight\n",
    "\n",
    "import tensorflow as tf\n",
    "from tensorflow import keras\n",
    "from tensorflow.keras import Model\n",
    "from tensorflow.keras.models import load_model\n",
    "from tensorflow.keras import layers\n",
    "from tensorflow.keras.callbacks import ModelCheckpoint\n",
    "from tensorflow.keras.optimizers import Adam\n",
    "from tensorflow.keras.preprocessing.image import ImageDataGenerator, img_to_array, load_img\n",
    "\n",
    "import tensorflow_datasets as tfds\n",
    "tfds.disable_progress_bar()\n",
    "\n",
    "import pandas as pd\n",
    "import numpy as np\n",
    "import matplotlib.pyplot as plt\n",
    "import os\n",
    "\n",
    "import io\n",
    "import random\n",
    "import shutil\n",
    "from PIL import Image\n",
    "\n",
    "\n",
    "import time\n",
    "from tqdm import tqdm\n",
    "\n",
    "from os import getcwd"
   ]
  },
  {
   "cell_type": "code",
   "execution_count": 3,
   "id": "b2189bcd",
   "metadata": {},
   "outputs": [],
   "source": [
    "DATADIR = r\"C:\\Users\\Donny Harahap\\SS an bakteri\"\n",
    "CATEGORIES = ['ACINETOBACTER','CLOSTRIDIUM','LACTOBACILLUS']\n",
    "#CATEGORIES = ['Abutilon Hybridum','Alpinia Galanga (Rasna)', 'Amaranthus Viridis (Arive-Dantu)', 'Anthurium Scherzerianum', 'Aporocactus Flagelliformis', 'Basella Alba (Basale)', 'Calathea Crocata', 'daisy', 'dandelion', 'Ficus Religiosa (Peepal Tree)', 'Hibiscus rosa-sinensis', 'Lithops fulleri', 'Lithops optica _Rubra_', 'Lithops pseudotruncatella', 'Moringa Oleifera (Drumstick)', 'Nerium Oleander (Oleander)', 'Ocimum Tenuiflorum (Tulsi)', 'Pachystachys Lutea', 'Paphiopedilum Venustum', 'Peperomia Argyela', 'Phalaenopsis amabilis', 'Plectranthus Amboinicus (Mexican Mint)', 'Punica Granatum (Pomegranate)', 'rose', 'Schlumbergera Bridgesii', 'Strelitzia Reginae', 'sunflower', 'Trigonella Foenum-graecum (Fenugreek)', 'tulip', 'Asplenium Nidus', 'Calathea Roseopicta', 'Calathea Zebrina', 'Chlorophytum Comosum', 'Davallia Fejeensis', 'Ficus Auriculata (Roxburgh fig)', 'Mentha (Mint)', 'Nephrolepis Exaltata', 'Opuntia Microdasys', 'Pilea Cadierei', 'Piper Betle (Betel)', 'Santalum Album (Sandalwood)', 'Sedum Morganianum', 'Monstera Deliciosa', 'snow white aglaonema']"
   ]
  },
  {
   "cell_type": "code",
   "execution_count": 4,
   "id": "83347fd8",
   "metadata": {},
   "outputs": [
    {
     "name": "stdout",
     "output_type": "stream",
     "text": [
      "There are 210 images of Clostridium.perfringens.\n",
      "There are 200 images of Lactobacillus.crispatus.\n"
     ]
    }
   ],
   "source": [
    "source_path = r\"C:\\Users\\Donny Harahap\\SS an bakteri\"\n",
    "\n",
    "source_path_dogs = os.path.join(source_path, 'CLOSTRIDIUM')\n",
    "source_path_cats = os.path.join(source_path, 'LACTOBACILLUS')\n",
    "\n",
    "\n",
    "# os.listdir returns a list containing all files under the given path\n",
    "print(f\"There are {len(os.listdir(source_path_dogs))} images of Clostridium.perfringens.\")\n",
    "print(f\"There are {len(os.listdir(source_path_cats))} images of Lactobacillus.crispatus.\")"
   ]
  },
  {
   "cell_type": "code",
   "execution_count": 5,
   "id": "a131e669",
   "metadata": {},
   "outputs": [],
   "source": [
    "# Define root directoryeifera (Drumstick)', 'Nerium Oleander (Oleander)', 'Ocimum Tenuiflorum (Tulsi)', 'Pachystachys Lutea', 'Paphiopedilum Venustum', 'Peperomia Argyela', 'Phalaenopsis amabilis', 'Plectranthus Amboinicus (Mexican Mint)', 'Punica Granatum (Pomegranate)', 'rose', 'Schlumbergera Bridgesii', 'Strelitzia Reginae', 'sunflower', 'Trigonella Foenum-graecum (Fenugreek)', 'tulip', 'Asplenium Nidus', 'Calathea Roseopicta', 'Calathea Zebrina', 'Chlorophytum Comosum', 'Davallia Fejeensis', 'Ficus Auriculata (Roxburgh fig)', 'Mentha (Mint)', 'Nephrolepis Exaltata', 'Opuntia Microdasys', 'Pilea Cadierei', 'Piper Betle (Betel)', 'Santalum Album (Sandalwood)', 'Sedum Morganianum', 'Monstera Deliciosa', 'snow white aglaonema']\n",
    "root_dir = r'C:\\Users\\Donny Harahap\\Capstone'\n",
    "\n",
    "# Empty directory to prevent FileExistsError is the function is run several times\n",
    "if os.path.exists(root_dir):\n",
    "  shutil.rmtree(root_dir)\n",
    "\n",
    "# GRADED FUNCTION: create_train_test_dirs\n",
    "def create_train_test_dirs(root_path):\n",
    "\n",
    "  # Use os.makedirs to create your directories with intermediate subdirectories\n",
    "  # Don't hardcode the paths. Use os.path.join to append the new directories to the root_path parameter\n",
    "  train_dir = os.path.join(root_path, 'training')\n",
    "  os.makedirs(train_dir)\n",
    "  validation_dir = os.path.join(root_path, 'validation')\n",
    "  os.makedirs(validation_dir)\n",
    "  test_dir = os.path.join(root_path, 'testing')\n",
    "  os.makedirs(test_dir)\n",
    "  # Directory with training cat/dog pictures\n",
    "  for bakteri in CATEGORIES:\n",
    "        os.makedirs(os.path.join(train_dir, bakteri))\n",
    "\n",
    "  # Directory with validation cat/dog pictures\n",
    "  for bakteri in CATEGORIES:\n",
    "        os.makedirs(os.path.join(validation_dir, bakteri))\n",
    "  for bakteri in CATEGORIES:\n",
    "        os.makedirs(os.path.join(test_dir, bakteri))\n",
    "\n",
    "\n",
    "  \n",
    "try:\n",
    "  create_train_test_dirs(root_path=root_dir)\n",
    "except FileExistsError:\n",
    "  print(\"You should not be seeing this since the upper directory is removed beforehand\")"
   ]
  },
  {
   "cell_type": "code",
   "execution_count": 6,
   "id": "217dd00a",
   "metadata": {},
   "outputs": [
    {
     "name": "stdout",
     "output_type": "stream",
     "text": [
      "C:\\Users\\Donny Harahap\\Capstone\\testing\n",
      "C:\\Users\\Donny Harahap\\Capstone\\training\n",
      "C:\\Users\\Donny Harahap\\Capstone\\validation\n",
      "C:\\Users\\Donny Harahap\\Capstone\\testing\\ACINETOBACTER\n",
      "C:\\Users\\Donny Harahap\\Capstone\\testing\\CLOSTRIDIUM\n",
      "C:\\Users\\Donny Harahap\\Capstone\\testing\\LACTOBACILLUS\n",
      "C:\\Users\\Donny Harahap\\Capstone\\training\\ACINETOBACTER\n",
      "C:\\Users\\Donny Harahap\\Capstone\\training\\CLOSTRIDIUM\n",
      "C:\\Users\\Donny Harahap\\Capstone\\training\\LACTOBACILLUS\n",
      "C:\\Users\\Donny Harahap\\Capstone\\validation\\ACINETOBACTER\n",
      "C:\\Users\\Donny Harahap\\Capstone\\validation\\CLOSTRIDIUM\n",
      "C:\\Users\\Donny Harahap\\Capstone\\validation\\LACTOBACILLUS\n"
     ]
    }
   ],
   "source": [
    "# Test your create_train_test_dirs function\n",
    "\n",
    "for rootdir, dirs, files in os.walk(root_dir):\n",
    "    for subdir in dirs:\n",
    "        print(os.path.join(rootdir, subdir))"
   ]
  },
  {
   "cell_type": "code",
   "execution_count": 7,
   "id": "588cbf91",
   "metadata": {},
   "outputs": [],
   "source": [
    "# GRADED FUNCTION: split_data\n",
    "def split_data(SOURCE, TRAINING, VALIDATION, TESTING, SPLIT_SIZE1, SPLIT_SIZE2):\n",
    "\n",
    "  ### START CODE HERE\n",
    "  #os.path.getsize(PATH)\n",
    "    list_name = os.listdir(SOURCE)\n",
    "    random.sample(list_name, len(list_name))\n",
    "  \n",
    "\n",
    "\n",
    "    part1 = int(len(list_name) * SPLIT_SIZE1)\n",
    "    training_file = list_name[:part1]\n",
    "    PREtesting_file =list_name[part1:]\n",
    "    part2 = int(len(PREtesting_file) * SPLIT_SIZE2)\n",
    "    validation_file = PREtesting_file[:part2]\n",
    "    testing_file =PREtesting_file[part2:]\n",
    "\n",
    "    for file in training_file:\n",
    "        copyfile(os.path.join(SOURCE, file), os.path.join(TRAINING, file))\n",
    "    for file in validation_file:\n",
    "        copyfile(os.path.join(SOURCE, file), os.path.join(VALIDATION, file))\n",
    "    for file in testing_file:\n",
    "        copyfile(os.path.join(SOURCE, file), os.path.join(TESTING, file))\n",
    "#      copyfile(SOURCE+file, TESTING+file)\n",
    "\n",
    "  ### END CODE HERE\n"
   ]
  },
  {
   "cell_type": "code",
   "execution_count": 14,
   "id": "a55be7da",
   "metadata": {},
   "outputs": [],
   "source": [
    "TRAINING_DIR = r\"C:\\Users\\Donny Harahap\\Capstone\\training\"\n",
    "VALIDATION_DIR = r\"C:\\Users\\Donny Harahap\\Capstone\\validation\"\n",
    "TESTING_DIR = r\"C:\\Users\\Donny Harahap\\Capstone\\testing\"\n",
    "\n",
    "for bakteri in CATEGORIES:\n",
    "    if len(os.listdir(os.path.join(TRAINING_DIR, bakteri))) > 0:\n",
    "        for file in os.scandir(os.path.join(TRAINING_DIR, bakteri)):\n",
    "            os.remove(file.path)\n",
    "    if len(os.listdir(os.path.join(VALIDATION_DIR, bakteri))) > 0:\n",
    "        for file in os.scandir(os.path.join(VALIDATION_DIR, bakteri)):\n",
    "            os.remove(file.path)\n",
    "    if len(os.listdir(os.path.join(TESTING_DIR, bakteri))) > 0:\n",
    "        for file in os.scandir(os.path.join(TESTING_DIR, bakteri)):\n",
    "            os.remove(file.path)\n",
    "\n",
    "# Define proportion of images used for training\n",
    "split_size1 = 0.8\n",
    "split_size2 = 1\n",
    "# Run the function\n",
    "# NOTE: Messages about zero length images should be printed out\n",
    "for bakteri in CATEGORIES:\n",
    "    split_data(os.path.join(source_path, bakteri), os.path.join(TRAINING_DIR, bakteri), os.path.join(VALIDATION_DIR, bakteri), os.path.join(TESTING_DIR, bakteri), split_size1, split_size2)\n",
    "    \n"
   ]
  },
  {
   "cell_type": "code",
   "execution_count": 15,
   "id": "cde7d921",
   "metadata": {},
   "outputs": [],
   "source": [
    "# GRADED FUNCTION: train_val_generators\n",
    "def train_val_generators(TRAINING_DIR, VALIDATION_DIR):\n",
    "  ### START CODE HERE\n",
    "\n",
    "  # Instantiate the ImageDataGenerator class (don't forget to set the arguments to augment the images)\n",
    "  train_datagen = ImageDataGenerator(rescale=1.0/255.0,\n",
    "                                     rotation_range=20,\n",
    "                                     width_shift_range=.0,\n",
    "                                     height_shift_range=.0,\n",
    "                                     shear_range=0.2,\n",
    "                                     zoom_range=0.2,\n",
    "                                     horizontal_flip=True,\n",
    "                                     fill_mode=\"nearest\")\n",
    "\n",
    "  # Pass in the appropriate arguments to the flow_from_directory method\n",
    "  train_generator = train_datagen.flow_from_directory(directory=TRAINING_DIR,\n",
    "                                                      batch_size=45,\n",
    "                                                      class_mode='categorical',\n",
    "                                                      target_size=(224, 224), color_mode='rgb')\n",
    "\n",
    "  # Instantiate the ImageDataGenerator class (don't forget to set the rescale argument)\n",
    "  validation_datagen = ImageDataGenerator(rescale = 1/255.0)\n",
    "\n",
    "  # Pass in the appropiate arguments to the flow_from_directory method\n",
    "  validation_generator = validation_datagen.flow_from_directory(directory=VALIDATION_DIR,\n",
    "                                                                batch_size=45,\n",
    "                                                                class_mode='categorical',\n",
    "                                                                target_size=(224, 224),\n",
    "                                                                color_mode='rgb')\n",
    "  ### END CODE HERE\n",
    "  return train_generator, validation_generator"
   ]
  },
  {
   "cell_type": "code",
   "execution_count": 10,
   "id": "7f9f7b52",
   "metadata": {},
   "outputs": [],
   "source": [
    "def color_segment_function(img_array):\n",
    "    img_array= np.rint(img_array)\n",
    "    img_array= img_array.astype('uint8')\n",
    "    hsv_img= cv2.cvtColor(img_array, cv2.COLOR_RGB2HSV)\n",
    "    mask = cv2.inRange(hsv_img, (24, 50, 0), (55, 255, 255))\n",
    "    result = cv2.bitwise_and(img_array, img_array, mask=mask)\n",
    "    result= result.astype('float64')\n",
    "    return result"
   ]
  },
  {
   "cell_type": "code",
   "execution_count": 16,
   "id": "24ef8cf8",
   "metadata": {},
   "outputs": [
    {
     "name": "stdout",
     "output_type": "stream",
     "text": [
      "Found 0 images belonging to 3 classes.\n"
     ]
    }
   ],
   "source": [
    "test_datagen = ImageDataGenerator(rescale=1./255, preprocessing_function=color_segment_function)\n",
    "test_generator = test_datagen.flow_from_directory(r'C:\\Users\\Donny Harahap\\Capstone\\testing',\n",
    "                                                  target_size=(224, 224),\n",
    "                                                  batch_size=45,\n",
    "                                                  class_mode='categorical',\n",
    "                                                  shuffle=False)"
   ]
  },
  {
   "cell_type": "code",
   "execution_count": 12,
   "id": "bbaf1a38",
   "metadata": {},
   "outputs": [
    {
     "name": "stdout",
     "output_type": "stream",
     "text": [
      "Found 488 images belonging to 3 classes.\n",
      "Found 122 images belonging to 3 classes.\n"
     ]
    }
   ],
   "source": [
    "# Test your generators\n",
    "train_generator, validation_generator = train_val_generators(TRAINING_DIR, VALIDATION_DIR)"
   ]
  },
  {
   "cell_type": "code",
   "execution_count": 17,
   "id": "4843a383",
   "metadata": {},
   "outputs": [
    {
     "data": {
      "text/plain": [
       "['ACINETOBACTER', 'CLOSTRIDIUM', 'LACTOBACILLUS']"
      ]
     },
     "execution_count": 17,
     "metadata": {},
     "output_type": "execute_result"
    }
   ],
   "source": [
    "class_names = list(train_generator.class_indices.keys())\n",
    "class_names"
   ]
  },
  {
   "cell_type": "code",
   "execution_count": 13,
   "id": "7e09c3a4",
   "metadata": {},
   "outputs": [],
   "source": [
    "#from prettytable import PrettyTable\n",
    "#get class indices and labels. calculate class weight\n",
    "#label_map = {}\n",
    "#for k, v in train_generator.class_indices.items():\n",
    " #   label_map[v]=k\n",
    "\n",
    "#class_counts= pd.Series(train_generator.classes).value_counts()\n",
    "#class_weight= {}\n",
    "\n",
    "#for i, c in class_counts.items():\n",
    " #   class_weight[i]= 1.0/c\n",
    "    \n",
    "#norm_factor= np.mean(list(class_weight.values()))\n",
    "\n",
    "#for k in class_counts.keys():\n",
    " #   class_weight[k]= class_weight[k]/norm_factor\n",
    "\n",
    "#t = PrettyTable(['class_index', 'class_label', 'class_weight'])\n",
    "#for i in sorted(class_weight.keys()):\n",
    " #   t.add_row([i, label_map[i], '{:.2f}'.format(class_weight[i])])\n",
    "#print(t)"
   ]
  },
  {
   "cell_type": "code",
   "execution_count": 14,
   "id": "fc365b46",
   "metadata": {},
   "outputs": [],
   "source": [
    "# base_model = tf.keras.applications.MobileNetV2(include_top=False)\n",
    "# base_model.trainable= False\n",
    "\n",
    "# inputs = layers.Input(shape=(224,224,3),name = \"input_shape\",dtype=tf.float16)\n",
    "# x = base_model(inputs,training=False)\n",
    "# x = layers.GlobalAvgPool2D(name=\"global_average_pooling_layer\")(x)\n",
    "# #x = layers.Dense(512, activation='relu')(x)\n",
    "# outputs = layers.Dense(len(class_names),activation='softmax',dtype=tf.float32,name='outputs')(x)\n",
    "\n",
    "# model_2 = Model(inputs,outputs)\n",
    "\n",
    "# model_2.compile(loss='categorical_crossentropy',optimizer=Adam(),metrics=['accuracy'])\n",
    "\n",
    "# model_2.summary()"
   ]
  },
  {
   "cell_type": "code",
   "execution_count": 18,
   "id": "2e2f3104",
   "metadata": {},
   "outputs": [
    {
     "name": "stdout",
     "output_type": "stream",
     "text": [
      "WARNING:tensorflow:`input_shape` is undefined or non-square, or `rows` is not in [96, 128, 160, 192, 224]. Weights for input shape (224, 224) will be loaded as the default.\n",
      "Model: \"functional_1\"\n",
      "_________________________________________________________________\n",
      "Layer (type)                 Output Shape              Param #   \n",
      "=================================================================\n",
      "input_shape (InputLayer)     [(None, 224, 224, 3)]     0         \n",
      "_________________________________________________________________\n",
      "mobilenetv2_1.00_224 (Functi (None, None, None, 1280)  2257984   \n",
      "_________________________________________________________________\n",
      "global_average_pooling_layer (None, 1280)              0         \n",
      "_________________________________________________________________\n",
      "outputs (Dense)              (None, 3)                 3843      \n",
      "=================================================================\n",
      "Total params: 2,261,827\n",
      "Trainable params: 3,843\n",
      "Non-trainable params: 2,257,984\n",
      "_________________________________________________________________\n"
     ]
    }
   ],
   "source": [
    "base_model = tf.keras.applications.MobileNetV2(include_top=False)\n",
    "base_model.trainable= False\n",
    "\n",
    "inputs = layers.Input(shape=(224,224,3),name = \"input_shape\",dtype=tf.float16)\n",
    "x = base_model(inputs,training=False)\n",
    "x = layers.GlobalAvgPool2D(name=\"global_average_pooling_layer\")(x)\n",
    "outputs = layers.Dense(len(class_names),activation='softmax',dtype=tf.float32,name='outputs')(x)\n",
    "\n",
    "model= Model(inputs,outputs)\n",
    "\n",
    "model.compile(optimizer=keras.optimizers.Adam(lr=0.001, amsgrad=True),\n",
    "                     loss='categorical_crossentropy',\n",
    "                     metrics = ['accuracy'])\n",
    "\n",
    "model.summary()"
   ]
  },
  {
   "cell_type": "code",
   "execution_count": 16,
   "id": "6adf56b0",
   "metadata": {},
   "outputs": [],
   "source": [
    "# from tensorflow.keras import layers\n",
    "# model =  tf.keras.models.Sequential()\n",
    "\n",
    "# model.add(layers.Conv2D(32, (3, 3), input_shape=(224, 224, 3),padding='Same', activation='relu'))\n",
    "# model.add(layers.MaxPool2D(pool_size=2 , strides=2))\n",
    "# model.add(layers.Dropout(0.1))\n",
    "\n",
    "\n",
    "# model.add(layers.Conv2D(64, (3, 3),padding='Same' , activation='relu'))\n",
    "# model.add(layers.MaxPool2D(pool_size=2 , strides=2))\n",
    "# model.add(layers.Dropout(0.1))\n",
    "\n",
    "\n",
    "\n",
    "# model.add(layers.Conv2D(128, (3, 3),padding='Same', activation='relu'))\n",
    "# model.add(layers.MaxPool2D(pool_size=2 , strides=2))\n",
    "# #model.add(layers.Dropout(0.1))\n",
    "\n",
    "\n",
    "# model.add(layers.Conv2D(128, (3, 3),padding='Same', activation='relu'))\n",
    "# model.add(layers.MaxPool2D(pool_size=2 , strides=2))\n",
    "# #model.add(layers.Dropout(0.1))\n",
    "\n",
    "\n",
    "# model.add(layers.Flatten())\n",
    "# model.add(layers.Dropout(0.4))\n",
    "# model.add(layers.Dense(256, activation='relu'))\n",
    "\n",
    "# model.add(layers.Dense(len(CATEGORIES), activation='softmax'))\n",
    "\n",
    "\n",
    "# base_model = tf.keras.applications.MobileNetV2(include_top=False)\n",
    "# base_model.trainable= False\n",
    "\n",
    "# inputs = layers.Input(shape=(224,224,3),name = \"input_shape\",dtype=tf.float16)\n",
    "# x = base_model(inputs,training=False)\n",
    "# x = layers.GlobalAvgPool2D(name=\"global_average_pooling_layer\")(x)\n",
    "# #x = layers.Dense(512, activation='relu')(x)\n",
    "# outputs = layers.Dense(len(class_names),activation='softmax',dtype=tf.float32,name='outputs')(x)\n",
    "\n",
    "# model_2 = Model(inputs,outputs)\n",
    "\n",
    "\n"
   ]
  },
  {
   "cell_type": "code",
   "execution_count": 17,
   "id": "1071ca2f",
   "metadata": {},
   "outputs": [],
   "source": [
    "# model.compile(optimizer=keras.optimizers.Adam(lr=0.001, amsgrad=True),\n",
    "#                     loss='categorical_crossentropy',\n",
    "#                     metrics = ['accuracy']) "
   ]
  },
  {
   "cell_type": "code",
   "execution_count": 18,
   "id": "8fc974a3",
   "metadata": {},
   "outputs": [],
   "source": [
    "# model.summary()"
   ]
  },
  {
   "cell_type": "code",
   "execution_count": 19,
   "id": "ea94d019",
   "metadata": {},
   "outputs": [],
   "source": [
    "# Opsi callBack1\n",
    "\n",
    "# class MyThresholdCallback(tf.keras.callbacks.Callback):\n",
    "#     def __init__(self, threshold):\n",
    "#         super(MyThresholdCallback, self).__init__()\n",
    "#         self.threshold = threshold\n",
    "\n",
    "#     def on_epoch_end(self, epoch, logs=None): \n",
    "#         val_acc = logs[\"val_loss\"]\n",
    "#         if val_acc <= self.threshold:\n",
    "#             self.model.stop_training = True\n",
    "\n",
    "# # callback_model2 = ModelCheckpoint(\"checkpoint_all/model2_45Data_trad.h5\")\n",
    "\n",
    "# my_callback = MyThresholdCallback(threshold=0.5)"
   ]
  },
  {
   "cell_type": "code",
   "execution_count": 20,
   "id": "ce432729",
   "metadata": {},
   "outputs": [],
   "source": [
    "# Opsi callBack2\n",
    "# best_cb= callbacks.ModelCheckpoint('model_best29Mei.h5', \n",
    "#                                          monitor='val_loss', \n",
    "#                                          verbose=1, \n",
    "#                                          save_best_only=True, \n",
    "#                                          save_weights_only=False, \n",
    "#                                          mode='auto', \n",
    "#                                          period=1)"
   ]
  },
  {
   "cell_type": "code",
   "execution_count": 19,
   "id": "3f56bb1a",
   "metadata": {
    "scrolled": true
   },
   "outputs": [
    {
     "name": "stdout",
     "output_type": "stream",
     "text": [
      "Epoch 1/3\n",
      "11/11 [==============================] - 19s 2s/step - loss: 0.9669 - accuracy: 0.5799 - val_loss: 0.4457 - val_accuracy: 0.9262\n",
      "Epoch 2/3\n",
      "11/11 [==============================] - 15s 1s/step - loss: 0.3659 - accuracy: 0.9201 - val_loss: 0.1755 - val_accuracy: 0.9672\n",
      "Epoch 3/3\n",
      "11/11 [==============================] - 15s 1s/step - loss: 0.2062 - accuracy: 0.9570 - val_loss: 0.0968 - val_accuracy: 0.9836\n"
     ]
    }
   ],
   "source": [
    "# epochs = 150\n",
    "# steps_per_epoch = 50\n",
    "# Train the model\n",
    "# Note that this may take some time.\n",
    "\n",
    "history = model.fit(train_generator,\n",
    "                    epochs=3,\n",
    "                    verbose=1,\n",
    "                    validation_data=validation_generator)"
   ]
  },
  {
   "cell_type": "code",
   "execution_count": 20,
   "id": "76e0888f",
   "metadata": {},
   "outputs": [
    {
     "data": {
      "image/png": "[encoded data removed]",
      "text/plain": [
       "<Figure size 432x288 with 1 Axes>"
      ]
     },
     "metadata": {
      "needs_background": "light"
     },
     "output_type": "display_data"
    },
    {
     "name": "stdout",
     "output_type": "stream",
     "text": [
      "\n"
     ]
    },
    {
     "data": {
      "image/png": "[encoded data removed]",
      "text/plain": [
       "<Figure size 432x288 with 1 Axes>"
      ]
     },
     "metadata": {
      "needs_background": "light"
     },
     "output_type": "display_data"
    }
   ],
   "source": [
    "#-----------------------------------------------------------\n",
    "# Retrieve a list of list results on training and test data\n",
    "# sets for each training epoch\n",
    "#-----------------------------------------------------------\n",
    "acc=history.history['accuracy']\n",
    "val_acc=history.history['val_accuracy']\n",
    "loss=history.history['loss']\n",
    "val_loss=history.history['val_loss']\n",
    "\n",
    "epochs=range(len(acc)) # Get number of epochs\n",
    "#------------------------------------------------\n",
    "#------------------------------------------------\n",
    "plt.plot(epochs, acc, 'r', \"Training Accuracy\")\n",
    "plt.plot(epochs, val_acc, 'b', \"Validation Accuracy\")\n",
    "plt.title('Training and validation accuracy')\n",
    "plt.show()\n",
    "print(\"\")\n",
    "\n",
    "#------------------------------------------------\n",
    "# Plot training and validation loss per epoch\n",
    "#------------------------------------------------\n",
    "plt.plot(epochs, loss, 'r', \"Training Loss\")\n",
    "plt.plot(epochs, val_loss, 'b', \"Validation Loss\")\n",
    "plt.show()"
   ]
  },
  {
   "cell_type": "code",
   "execution_count": 21,
   "id": "f5fe0bf0",
   "metadata": {},
   "outputs": [],
   "source": [
    "model.save('model_best7Juni.h5')"
   ]
  },
  {
   "cell_type": "code",
   "execution_count": 22,
   "id": "cb669779",
   "metadata": {},
   "outputs": [],
   "source": [
    "from keras import models, layers, callbacks\n",
    "model= models.load_model('model_best7Juni.h5')"
   ]
  },
  {
   "cell_type": "code",
   "execution_count": 23,
   "id": "e0ae4b61",
   "metadata": {},
   "outputs": [
    {
     "data": {
      "text/plain": [
       "0"
      ]
     },
     "execution_count": 23,
     "metadata": {},
     "output_type": "execute_result"
    }
   ],
   "source": [
    "test_generator.n"
   ]
  },
  {
   "cell_type": "code",
   "execution_count": 24,
   "id": "2c313312",
   "metadata": {},
   "outputs": [
    {
     "name": "stdout",
     "output_type": "stream",
     "text": [
      "3/3 [==============================] - 1s 487ms/step - loss: 0.0968 - accuracy: 0.9836\n"
     ]
    },
    {
     "data": {
      "text/plain": [
       "[0.09678103029727936, 0.9836065769195557]"
      ]
     },
     "execution_count": 24,
     "metadata": {},
     "output_type": "execute_result"
    }
   ],
   "source": [
    "model.evaluate(validation_generator)"
   ]
  },
  {
   "cell_type": "code",
   "execution_count": 27,
   "id": "d58c2776",
   "metadata": {},
   "outputs": [],
   "source": [
    "# import cv2\n",
    "# pred= model.predict_generator(test_generator, steps= test_generator.n, verbose=1)"
   ]
  },
  {
   "cell_type": "code",
   "execution_count": 28,
   "id": "44cb7bc8",
   "metadata": {},
   "outputs": [],
   "source": [
    "# predicted_class_indices=np.argmax(pred,axis=1)\n",
    "\n",
    "# prediction_labels = [label_map[k] for k in predicted_class_indices]\n",
    "# filenames= test_generator.filenames"
   ]
  },
  {
   "cell_type": "code",
   "execution_count": 29,
   "id": "9f0e33d8",
   "metadata": {},
   "outputs": [],
   "source": [
    "# import csv\n",
    "# csvfile= open('ray_reed_submission.csv', 'w', newline='')\n",
    "# writer= csv.writer(csvfile)\n",
    "\n",
    "# headers= ['file', 'species']\n",
    "\n",
    "# writer.writerow(headers)\n",
    "# t = PrettyTable(headers)\n",
    "# for i, f, p in zip(range(len(filenames)), filenames, prediction_labels):\n",
    "#     writer.writerow([os.path.basename(f),p])\n",
    "#     if i <10:\n",
    "#         t.add_row([os.path.basename(f), p])\n",
    "#     elif i<13:\n",
    "#         t.add_row(['.', '.'])\n",
    "# csvfile.close()\n",
    "# print(t)"
   ]
  },
  {
   "cell_type": "code",
   "execution_count": 25,
   "id": "ec4be6ec",
   "metadata": {},
   "outputs": [],
   "source": [
    "def img_prep_predict(path):\n",
    "    img = plt.imread(path)\n",
    "    img=tf.image.resize(img,(224,224))\n",
    "    img=tf.expand_dims(img,axis=0)\n",
    "    img = img/255.\n",
    "    predmod = np.ravel(model.predict(img))\n",
    "    a= 0\n",
    "    nji = 0\n",
    "    for CATEGORIE in CATEGORIES:\n",
    "        if predmod[a] > nji:\n",
    "            mosnt = CATEGORIE\n",
    "            nji = predmod[a]\n",
    "        a+=1\n",
    "\n",
    "    return mosnt"
   ]
  },
  {
   "cell_type": "code",
   "execution_count": 28,
   "id": "f51c496a",
   "metadata": {},
   "outputs": [
    {
     "data": {
      "text/plain": [
       "'CLOSTRIDIUM'"
      ]
     },
     "execution_count": 28,
     "metadata": {},
     "output_type": "execute_result"
    }
   ],
   "source": [
    "img_prep_predict(R\"C:\\Users\\Donny Harahap\\Downloads\\240px-Clostridium_perfringens.jpg\")"
   ]
  },
  {
   "cell_type": "code",
   "execution_count": 29,
   "id": "e0db4ecd",
   "metadata": {},
   "outputs": [],
   "source": [
    "def img_prep_predict(path):\n",
    "    img = plt.imread(path)\n",
    "    img=tf.image.resize(img,(224,224))\n",
    "    img=tf.expand_dims(img,axis=0)\n",
    "    img = img/255.\n",
    "    return img"
   ]
  },
  {
   "cell_type": "code",
   "execution_count": 33,
   "id": "c6358001",
   "metadata": {},
   "outputs": [
    {
     "name": "stdout",
     "output_type": "stream",
     "text": [
      "Requirement already satisfied: opencv-python in c:\\users\\donny harahap\\anaconda3\\envs\\tf\\lib\\site-packages (4.5.5.64)\n",
      "Requirement already satisfied: numpy>=1.17.3 in c:\\users\\donny harahap\\anaconda3\\envs\\tf\\lib\\site-packages (from opencv-python) (1.22.3)\n"
     ]
    }
   ],
   "source": []
  },
  {
   "cell_type": "code",
   "execution_count": 34,
   "id": "b1f1a784",
   "metadata": {},
   "outputs": [
    {
     "name": "stdout",
     "output_type": "stream",
     "text": [
      "Requirement already satisfied: pyqt5 in c:\\users\\donny harahap\\anaconda3\\envs\\tf\\lib\\site-packages (5.15.6)\n",
      "Requirement already satisfied: lxml in c:\\users\\donny harahap\\anaconda3\\envs\\tf\\lib\\site-packages (4.9.0)\n",
      "Requirement already satisfied: PyQt5-sip<13,>=12.8 in c:\\users\\donny harahap\\anaconda3\\envs\\tf\\lib\\site-packages (from pyqt5) (12.10.1)\n",
      "Requirement already satisfied: PyQt5-Qt5>=5.15.2 in c:\\users\\donny harahap\\anaconda3\\envs\\tf\\lib\\site-packages (from pyqt5) (5.15.2)\n"
     ]
    }
   ],
   "source": []
  },
  {
   "cell_type": "code",
   "execution_count": 35,
   "id": "04eba6a8",
   "metadata": {},
   "outputs": [],
   "source": []
  },
  {
   "cell_type": "code",
   "execution_count": 36,
   "id": "ae912276",
   "metadata": {},
   "outputs": [],
   "source": []
  },
  {
   "cell_type": "code",
   "execution_count": 37,
   "id": "5224c3a8",
   "metadata": {},
   "outputs": [
    {
     "name": "stderr",
     "output_type": "stream",
     "text": [
      "Traceback (most recent call last):\n",
      "  File \"c:\\Users\\Donny Harahap\\anaconda3\\envs\\tf\\lib\\runpy.py\", line 192, in _run_module_as_main\n",
      "    return _run_code(code, main_globals, None,\n",
      "  File \"c:\\Users\\Donny Harahap\\anaconda3\\envs\\tf\\lib\\runpy.py\", line 85, in _run_code\n",
      "    exec(code, run_globals)\n",
      "  File \"c:\\Users\\Donny Harahap\\anaconda3\\envs\\tf\\lib\\site-packages\\PyQt5\\pyrcc_main.py\", line 21, in <module>\n",
      "    from PyQt5.QtCore import PYQT_VERSION_STR, QDir, QFile\n",
      "ImportError: DLL load failed while importing QtCore: The specified procedure could not be found.\n"
     ]
    }
   ],
   "source": [
    "if os.name == 'posix':\n",
    "    !make qt5py3\n",
    "if os.name =='nt':\n",
    "    !cd {LABELIMG_PATH} && pyrcc5 -o libs/resources.py resources.qrc"
   ]
  },
  {
   "cell_type": "code",
   "execution_count": 38,
   "id": "ede65c39",
   "metadata": {},
   "outputs": [
    {
     "ename": "SyntaxError",
     "evalue": "invalid character in identifier (3693571746.py, line 10)",
     "output_type": "error",
     "traceback": [
      "\u001b[1;36m  Input \u001b[1;32mIn [38]\u001b[1;36m\u001b[0m\n\u001b[1;33m    classFile = ‘coco.names’\u001b[0m\n\u001b[1;37m                    ^\u001b[0m\n\u001b[1;31mSyntaxError\u001b[0m\u001b[1;31m:\u001b[0m invalid character in identifier\n"
     ]
    }
   ],
   "source": [
    "import cv2\n",
    "thres = 0.45 # Threshold to detect object\n",
    " \n",
    "cap = cv2.VideoCapture(1)\n",
    "cap.set(3,1280)\n",
    "cap.set(4,720)\n",
    "cap.set(10,70)\n",
    " \n",
    "classNames= []\n",
    "classFile = ‘coco.names’\n",
    "with open(classFile,’rt’) as f:\n",
    "classNames = f.read().rstrip(‘n’).split(‘n’)\n",
    " \n",
    "configPath = ‘ssd_mobilenet_v3_large_coco_2020_01_14.pbtxt’\n",
    "weightsPath = ‘frozen_inference_graph.pb’\n",
    " \n",
    "net = cv2.dnn_DetectionModel(weightsPath,configPath)\n",
    "net.setInputSize(320,320)\n",
    "net.setInputScale(1.0/ 127.5)\n",
    "net.setInputMean((127.5, 127.5, 127.5))\n",
    "net.setInputSwapRB(True)\n",
    " \n",
    "while True:\n",
    "    success,img = cap.read()\n",
    "    classIds, confs, bbox = net.detect(img,confThreshold=thres)\n",
    "    print(classIds,bbox)\n",
    " \n",
    "    if len(classIds) != 0:\n",
    "        for classId, confidence,box in zip(classIds.flatten(),confs.flatten(),bbox):\n",
    "            cv2.rectangle(img,box,color=(0,255,0),thickness=2)\n",
    "            cv2.putText(img,classNames[classId-1].upper(),(box[0]+10,box[1]+30),\n",
    "            cv2.FONT_HERSHEY_COMPLEX,1,(0,255,0),2)\n",
    "            cv2.putText(img,str(round(confidence*100,2)),(box[0]+200,box[1]+30),\n",
    "            cv2.FONT_HERSHEY_COMPLEX,1,(0,255,0),2)\n",
    " \n",
    "    cv2.imshow(“Output”,img)\n",
    "    cv2.waitKey(1)"
   ]
  },
  {
   "cell_type": "code",
   "execution_count": null,
   "id": "3f4b00f8",
   "metadata": {},
   "outputs": [],
   "source": [
    "#TFLite Saved Model\n",
    "export_dir = 'saved_model/1'\n",
    "\n",
    "tf.saved_model.save(model, export_dir = export_dir)"
   ]
  },
  {
   "cell_type": "code",
   "execution_count": null,
   "id": "f79767d2",
   "metadata": {},
   "outputs": [],
   "source": [
    "# Select mode of optimization\n",
    "mode = \"Speed\" \n",
    "\n",
    "if mode == 'Storage':\n",
    "    optimization = tf.lite.Optimize.OPTIMIZE_FOR_SIZE\n",
    "elif mode == 'Speed':\n",
    "    optimization = tf.lite.Optimize.OPTIMIZE_FOR_LATENCY\n",
    "else:\n",
    "    optimization = tf.lite.Optimize.DEFAULT"
   ]
  },
  {
   "cell_type": "code",
   "execution_count": null,
   "id": "07aa1e6e",
   "metadata": {},
   "outputs": [],
   "source": [
    "converter = tf.lite.TFLiteConverter.from_saved_model(export_dir)\n",
    "\n",
    "# Set the optimzations\n",
    "converter.optimizations = [optimization]\n",
    "\n",
    "# Invoke the converter to finally generate the TFLite model\n",
    "tflite_model = converter.convert()"
   ]
  },
  {
   "cell_type": "code",
   "execution_count": null,
   "id": "0fcea910",
   "metadata": {},
   "outputs": [],
   "source": [
    "tflite_model_file = pathlib.Path('./model.tflite')\n",
    "tflite_model_file.write_bytes(tflite_model)"
   ]
  }
 ],
 "metadata": {
  "interpreter": {
   "hash": "41136136bc0c0c5aec5c7d2be1ea6a10f0519d4ace3af60b52b7cfede2d72061"
  },
  "kernelspec": {
   "display_name": "Python 3.8.0 ('tf')",
   "language": "python",
   "name": "python3"
  },
  "language_info": {
   "codemirror_mode": {
    "name": "ipython",
    "version": 3
   },
   "file_extension": ".py",
   "mimetype": "text/x-python",
   "name": "python",
   "nbconvert_exporter": "python",
   "pygments_lexer": "ipython3",
   "version": "3.8.0"
  }
 },
 "nbformat": 4,
 "nbformat_minor": 5
}
